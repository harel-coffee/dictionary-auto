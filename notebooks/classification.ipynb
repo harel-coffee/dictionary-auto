{
 "cells": [
  {
   "cell_type": "markdown",
   "id": "554f23a6",
   "metadata": {},
   "source": [
    "# Univariate time series classification with WEASEL 2.0\n",
    "\n",
    "WEASEL 2.0 is build upon the sktime/sklearn-APIs."
   ]
  },
  {
   "cell_type": "markdown",
   "id": "4abb5608",
   "metadata": {},
   "source": [
    "First, we import the requires libraries"
   ]
  },
  {
   "cell_type": "code",
   "execution_count": 4,
   "id": "323d16ec",
   "metadata": {},
   "outputs": [],
   "source": [
    "import time\n",
    "import numpy as np\n",
    "from sktime.datasets import load_arrow_head\n",
    "from weasel.classification.dictionary_based import WEASEL_V2"
   ]
  },
  {
   "cell_type": "markdown",
   "id": "3dea8779",
   "metadata": {},
   "source": [
    "Next, we load the arrow-head dataset"
   ]
  },
  {
   "cell_type": "code",
   "execution_count": 2,
   "id": "307b08a3",
   "metadata": {},
   "outputs": [],
   "source": [
    "X_train, y_train = load_arrow_head(split=\"train\", return_type=\"numpy3d\")\n",
    "X_test, y_test = load_arrow_head(split=\"test\", return_type=\"numpy3d\")"
   ]
  },
  {
   "cell_type": "markdown",
   "id": "e39e62b0",
   "metadata": {},
   "source": [
    "Finally, we fit a WEASEL 2.0 model and do some predictions"
   ]
  },
  {
   "cell_type": "code",
   "execution_count": 3,
   "id": "e7b739ac",
   "metadata": {},
   "outputs": [
    {
     "name": "stdout",
     "output_type": "stream",
     "text": [
      "Accuracy,Fit-Time,Predict-Time,Dictionary-Size\n",
      "0.857,0.55,0.52,21448\n"
     ]
    }
   ],
   "source": [
    "clf = WEASEL_V2(random_state=1379, n_jobs=4)\n",
    "\n",
    "fit_time = time.perf_counter()\n",
    "clf.fit(X_train,y_train)\n",
    "fit_time = np.round(time.perf_counter() - fit_time, 5)\n",
    "\n",
    "pred_time = time.perf_counter()\n",
    "acc = clf.score(X_test, y_test)\n",
    "pred_time = np.round(time.perf_counter() - pred_time, 5)\n",
    "\n",
    "print(\"Accuracy,Fit-Time,Predict-Time,Dictionary-Size\")\n",
    "print(\n",
    "    f\"{np.round(acc, 3)},\"\n",
    "    + f\"{np.round(fit_time, 2)},\"\n",
    "    + f\"{np.round(pred_time, 2)}\"\n",
    "    + f\",{clf.total_features_count}\"\n",
    ")"
   ]
  },
  {
   "cell_type": "code",
   "execution_count": null,
   "id": "7fd7c935",
   "metadata": {},
   "outputs": [],
   "source": []
  }
 ],
 "metadata": {
  "kernelspec": {
   "display_name": "Python 3 (ipykernel)",
   "language": "python",
   "name": "python3"
  },
  "language_info": {
   "codemirror_mode": {
    "name": "ipython",
    "version": 3
   },
   "file_extension": ".py",
   "mimetype": "text/x-python",
   "name": "python",
   "nbconvert_exporter": "python",
   "pygments_lexer": "ipython3",
   "version": "3.8.13"
  }
 },
 "nbformat": 4,
 "nbformat_minor": 5
}
